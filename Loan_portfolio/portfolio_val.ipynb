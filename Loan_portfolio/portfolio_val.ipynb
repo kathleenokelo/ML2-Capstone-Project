{
 "cells": [
  {
   "cell_type": "markdown",
   "metadata": {},
   "source": [
    "# Merchant Loan Valuation Portfolio"
   ]
  },
  {
   "cell_type": "code",
   "execution_count": 1,
   "metadata": {},
   "outputs": [],
   "source": [
    "#import necessary libraries\n",
    "import numpy as np\n",
    "import pandas as pd"
   ]
  },
  {
   "cell_type": "code",
   "execution_count": 2,
   "metadata": {},
   "outputs": [],
   "source": [
    "# Import the data and store it in a variable.\n",
    "data = pd.read_csv(r\"C:\\Users\\ADMIN\\Downloads\\Data.csv\",sep=';')"
   ]
  },
  {
   "cell_type": "code",
   "execution_count": 3,
   "metadata": {},
   "outputs": [
    {
     "data": {
      "text/html": [
       "<div>\n",
       "<style scoped>\n",
       "    .dataframe tbody tr th:only-of-type {\n",
       "        vertical-align: middle;\n",
       "    }\n",
       "\n",
       "    .dataframe tbody tr th {\n",
       "        vertical-align: top;\n",
       "    }\n",
       "\n",
       "    .dataframe thead th {\n",
       "        text-align: right;\n",
       "    }\n",
       "</style>\n",
       "<table border=\"1\" class=\"dataframe\">\n",
       "  <thead>\n",
       "    <tr style=\"text-align: right;\">\n",
       "      <th></th>\n",
       "      <th>Unnamed: 0</th>\n",
       "      <th>Origination Amount</th>\n",
       "      <th>31.05.2019</th>\n",
       "      <th>30.06.2019</th>\n",
       "      <th>31.07.2019</th>\n",
       "      <th>31.08.2019</th>\n",
       "      <th>30.09.2019</th>\n",
       "      <th>31.10.2019</th>\n",
       "      <th>30.11.2019</th>\n",
       "      <th>31.12.2019</th>\n",
       "      <th>...</th>\n",
       "      <th>31.03.2020</th>\n",
       "      <th>30.04.2020</th>\n",
       "      <th>31.05.2020</th>\n",
       "      <th>30.06.2020</th>\n",
       "      <th>31.07.2020</th>\n",
       "      <th>31.08.2020</th>\n",
       "      <th>30.09.2020</th>\n",
       "      <th>31.10.2020</th>\n",
       "      <th>30.11.2020</th>\n",
       "      <th>31.12.2020</th>\n",
       "    </tr>\n",
       "  </thead>\n",
       "  <tbody>\n",
       "    <tr>\n",
       "      <th>0</th>\n",
       "      <td>31.05.2019</td>\n",
       "      <td>10018746.17</td>\n",
       "      <td>1443069.08</td>\n",
       "      <td>3332200.33</td>\n",
       "      <td>1328138.75</td>\n",
       "      <td>928085.74</td>\n",
       "      <td>736418.27</td>\n",
       "      <td>539403.31</td>\n",
       "      <td>427557.86</td>\n",
       "      <td>324459.32</td>\n",
       "      <td>...</td>\n",
       "      <td>116684.68</td>\n",
       "      <td>92699.67</td>\n",
       "      <td>63399.66</td>\n",
       "      <td>53265.12</td>\n",
       "      <td>37121.13</td>\n",
       "      <td>29787.10</td>\n",
       "      <td>24524.90</td>\n",
       "      <td>18085.94</td>\n",
       "      <td>16581.01</td>\n",
       "      <td>11442.97</td>\n",
       "    </tr>\n",
       "    <tr>\n",
       "      <th>1</th>\n",
       "      <td>30.06.2019</td>\n",
       "      <td>10868379.04</td>\n",
       "      <td>0.00</td>\n",
       "      <td>1392751.60</td>\n",
       "      <td>3011884.91</td>\n",
       "      <td>1237868.70</td>\n",
       "      <td>970929.28</td>\n",
       "      <td>892351.83</td>\n",
       "      <td>668767.02</td>\n",
       "      <td>505612.59</td>\n",
       "      <td>...</td>\n",
       "      <td>255222.42</td>\n",
       "      <td>198833.96</td>\n",
       "      <td>161996.73</td>\n",
       "      <td>138461.91</td>\n",
       "      <td>92346.68</td>\n",
       "      <td>79641.30</td>\n",
       "      <td>63457.44</td>\n",
       "      <td>52373.85</td>\n",
       "      <td>43374.70</td>\n",
       "      <td>37404.87</td>\n",
       "    </tr>\n",
       "    <tr>\n",
       "      <th>2</th>\n",
       "      <td>31.07.2019</td>\n",
       "      <td>10733932.61</td>\n",
       "      <td>0.00</td>\n",
       "      <td>0.00</td>\n",
       "      <td>1537650.24</td>\n",
       "      <td>2953335.55</td>\n",
       "      <td>1208316.08</td>\n",
       "      <td>879375.19</td>\n",
       "      <td>711016.84</td>\n",
       "      <td>658251.40</td>\n",
       "      <td>...</td>\n",
       "      <td>302575.54</td>\n",
       "      <td>258652.52</td>\n",
       "      <td>191798.05</td>\n",
       "      <td>170027.54</td>\n",
       "      <td>127574.33</td>\n",
       "      <td>110301.21</td>\n",
       "      <td>89766.69</td>\n",
       "      <td>64746.84</td>\n",
       "      <td>61408.92</td>\n",
       "      <td>50312.70</td>\n",
       "    </tr>\n",
       "    <tr>\n",
       "      <th>3</th>\n",
       "      <td>31.08.2019</td>\n",
       "      <td>12558727.02</td>\n",
       "      <td>0.00</td>\n",
       "      <td>0.00</td>\n",
       "      <td>0.00</td>\n",
       "      <td>1617681.94</td>\n",
       "      <td>4082016.00</td>\n",
       "      <td>1387474.94</td>\n",
       "      <td>1247623.59</td>\n",
       "      <td>886293.35</td>\n",
       "      <td>...</td>\n",
       "      <td>417223.56</td>\n",
       "      <td>336686.08</td>\n",
       "      <td>253556.20</td>\n",
       "      <td>200066.59</td>\n",
       "      <td>151859.74</td>\n",
       "      <td>109973.00</td>\n",
       "      <td>90228.14</td>\n",
       "      <td>70661.50</td>\n",
       "      <td>53102.83</td>\n",
       "      <td>47069.84</td>\n",
       "    </tr>\n",
       "    <tr>\n",
       "      <th>4</th>\n",
       "      <td>30.09.2019</td>\n",
       "      <td>14505071.44</td>\n",
       "      <td>0.00</td>\n",
       "      <td>0.00</td>\n",
       "      <td>0.00</td>\n",
       "      <td>0.00</td>\n",
       "      <td>1992242.84</td>\n",
       "      <td>3930445.60</td>\n",
       "      <td>1394620.78</td>\n",
       "      <td>1227905.58</td>\n",
       "      <td>...</td>\n",
       "      <td>628429.48</td>\n",
       "      <td>589692.85</td>\n",
       "      <td>457299.31</td>\n",
       "      <td>323764.87</td>\n",
       "      <td>288152.28</td>\n",
       "      <td>239872.99</td>\n",
       "      <td>192246.98</td>\n",
       "      <td>171550.69</td>\n",
       "      <td>142575.97</td>\n",
       "      <td>116853.05</td>\n",
       "    </tr>\n",
       "  </tbody>\n",
       "</table>\n",
       "<p>5 rows × 22 columns</p>\n",
       "</div>"
      ],
      "text/plain": [
       "   Unnamed: 0  Origination Amount  31.05.2019  30.06.2019  31.07.2019  \\\n",
       "0  31.05.2019         10018746.17  1443069.08  3332200.33  1328138.75   \n",
       "1  30.06.2019         10868379.04        0.00  1392751.60  3011884.91   \n",
       "2  31.07.2019         10733932.61        0.00        0.00  1537650.24   \n",
       "3  31.08.2019         12558727.02        0.00        0.00        0.00   \n",
       "4  30.09.2019         14505071.44        0.00        0.00        0.00   \n",
       "\n",
       "   31.08.2019  30.09.2019  31.10.2019  30.11.2019  31.12.2019  ...  \\\n",
       "0   928085.74   736418.27   539403.31   427557.86   324459.32  ...   \n",
       "1  1237868.70   970929.28   892351.83   668767.02   505612.59  ...   \n",
       "2  2953335.55  1208316.08   879375.19   711016.84   658251.40  ...   \n",
       "3  1617681.94  4082016.00  1387474.94  1247623.59   886293.35  ...   \n",
       "4        0.00  1992242.84  3930445.60  1394620.78  1227905.58  ...   \n",
       "\n",
       "   31.03.2020  30.04.2020  31.05.2020  30.06.2020  31.07.2020  31.08.2020  \\\n",
       "0   116684.68    92699.67    63399.66    53265.12    37121.13    29787.10   \n",
       "1   255222.42   198833.96   161996.73   138461.91    92346.68    79641.30   \n",
       "2   302575.54   258652.52   191798.05   170027.54   127574.33   110301.21   \n",
       "3   417223.56   336686.08   253556.20   200066.59   151859.74   109973.00   \n",
       "4   628429.48   589692.85   457299.31   323764.87   288152.28   239872.99   \n",
       "\n",
       "   30.09.2020  31.10.2020  30.11.2020  31.12.2020  \n",
       "0    24524.90    18085.94    16581.01    11442.97  \n",
       "1    63457.44    52373.85    43374.70    37404.87  \n",
       "2    89766.69    64746.84    61408.92    50312.70  \n",
       "3    90228.14    70661.50    53102.83    47069.84  \n",
       "4   192246.98   171550.69   142575.97   116853.05  \n",
       "\n",
       "[5 rows x 22 columns]"
      ]
     },
     "execution_count": 3,
     "metadata": {},
     "output_type": "execute_result"
    }
   ],
   "source": [
    "data.head()"
   ]
  },
  {
   "cell_type": "code",
   "execution_count": 4,
   "metadata": {},
   "outputs": [
    {
     "name": "stdout",
     "output_type": "stream",
     "text": [
      "<class 'pandas.core.frame.DataFrame'>\n",
      "RangeIndex: 20 entries, 0 to 19\n",
      "Data columns (total 22 columns):\n",
      " #   Column              Non-Null Count  Dtype  \n",
      "---  ------              --------------  -----  \n",
      " 0   Unnamed: 0          20 non-null     object \n",
      " 1   Origination Amount  20 non-null     float64\n",
      " 2   31.05.2019          20 non-null     float64\n",
      " 3   30.06.2019          20 non-null     float64\n",
      " 4   31.07.2019          20 non-null     float64\n",
      " 5   31.08.2019          20 non-null     float64\n",
      " 6   30.09.2019          20 non-null     float64\n",
      " 7   31.10.2019          20 non-null     float64\n",
      " 8   30.11.2019          20 non-null     float64\n",
      " 9   31.12.2019          20 non-null     float64\n",
      " 10  31.01.2020          20 non-null     float64\n",
      " 11  29.02.2020          20 non-null     float64\n",
      " 12  31.03.2020          20 non-null     float64\n",
      " 13  30.04.2020          20 non-null     float64\n",
      " 14  31.05.2020          20 non-null     float64\n",
      " 15  30.06.2020          20 non-null     float64\n",
      " 16  31.07.2020          20 non-null     float64\n",
      " 17  31.08.2020          20 non-null     float64\n",
      " 18  30.09.2020          20 non-null     float64\n",
      " 19  31.10.2020          20 non-null     float64\n",
      " 20  30.11.2020          20 non-null     float64\n",
      " 21  31.12.2020          20 non-null     float64\n",
      "dtypes: float64(21), object(1)\n",
      "memory usage: 3.6+ KB\n"
     ]
    }
   ],
   "source": [
    "data.info()"
   ]
  },
  {
   "cell_type": "code",
   "execution_count": 5,
   "metadata": {},
   "outputs": [],
   "source": [
    "#Parameters\n",
    "n_forecast = 30  # number of forecast periods\n",
    "n_vintage = len(data) # number of vintages(rows in data)\n",
    "discount_rate = 0.025 # annual discount rate\n"
   ]
  },
  {
   "cell_type": "code",
   "execution_count": 6,
   "metadata": {},
   "outputs": [],
   "source": [
    "#Extract historical cash flows (as a matrix) and originated amounts\n",
    "\n",
    "historical_cf = data.iloc[:, 2:].values  # Matrix of cash flows already observed\n",
    "amount_originated = data.iloc[:, 1].values  # Vector of amounts originated per vintage\n"
   ]
  },
  {
   "cell_type": "code",
   "execution_count": 7,
   "metadata": {},
   "outputs": [],
   "source": [
    "# Number of periods remaining per vintage\n",
    "periods_remaining = n_forecast - np.arange(1, n_vintage + 1)\n"
   ]
  },
  {
   "cell_type": "code",
   "execution_count": 8,
   "metadata": {},
   "outputs": [],
   "source": [
    "# Calculate repayment percentages (historical payments as a percentage of the originated amount per vintage)\n",
    "paid_percentages = historical_cf / amount_originated[:, np.newaxis]\n"
   ]
  },
  {
   "cell_type": "code",
   "execution_count": 9,
   "metadata": {},
   "outputs": [],
   "source": [
    "# Repayment percentages for the first and second periods\n",
    "first_period = np.diag(paid_percentages)  # First repayment percentage (diagonal)\n",
    "second_period = np.concatenate(\n",
    "    [np.diag(paid_percentages[:-1, 1:]), [paid_percentages[-1, -1] * 2]]\n",
    ")  # Second repayment percentage (adjust for the last vintage)\n"
   ]
  },
  {
   "cell_type": "code",
   "execution_count": 10,
   "metadata": {},
   "outputs": [],
   "source": [
    "# Initialize the matrix of repayment percentages\n",
    "p = np.zeros((n_vintage, n_forecast))\n",
    "\n",
    "# Assign first and second periods to the repayment matrix\n",
    "p[:, 0] = first_period\n",
    "p[:, 1] = second_period"
   ]
  },
  {
   "cell_type": "code",
   "execution_count": 11,
   "metadata": {},
   "outputs": [],
   "source": [
    "#Calculate expected repayment percentages for the forecast periods\n",
    "for i in range(n_vintage):\n",
    "    for j in range(2, n_forecast):\n",
    "        p[i, j] = max(0, p[i, 1] * np.log(1 + (1 - np.sum(p[i, :j]))) * (1 - (j) / n_forecast))\n"
   ]
  },
  {
   "cell_type": "code",
   "execution_count": 12,
   "metadata": {},
   "outputs": [],
   "source": [
    "# Initialize the forecast matrix\n",
    "p_forecast = np.zeros((n_vintage, n_forecast - 1))\n"
   ]
  },
  {
   "cell_type": "code",
   "execution_count": 13,
   "metadata": {},
   "outputs": [],
   "source": [
    "# Assign first and second periods to the repayment matrix\n",
    "p[:, 0] = first_period\n",
    "p[:, 1] = second_period\n"
   ]
  },
  {
   "cell_type": "code",
   "execution_count": 14,
   "metadata": {},
   "outputs": [],
   "source": [
    "#Calculate expected repayment percentages for the forecast periods\n",
    "for i in range(n_vintage):\n",
    "    for j in range(2, n_forecast):\n",
    "        p[i, j] = max(0, p[i, 1] * np.log(1 + (1 - np.sum(p[i, :j]))) * (1 - (j) / n_forecast))\n"
   ]
  },
  {
   "cell_type": "code",
   "execution_count": 15,
   "metadata": {},
   "outputs": [],
   "source": [
    "# Initialize the forecast matrix\n",
    "p_forecast = np.zeros((n_vintage, n_forecast - 1))\n"
   ]
  },
  {
   "cell_type": "code",
   "execution_count": 16,
   "metadata": {},
   "outputs": [],
   "source": [
    "# Assign forecasted repayment percentages to the correct periods\n",
    "for i in range(n_vintage):\n",
    "    for j in range(int(periods_remaining[i])):\n",
    "        p_forecast[i, j] = p[i, n_forecast - int(periods_remaining[i]) + j]\n"
   ]
  },
  {
   "cell_type": "code",
   "execution_count": 17,
   "metadata": {},
   "outputs": [],
   "source": [
    "# Calculate the discount factors (monthly)\n",
    "discount_factors = 1 / (1 + discount_rate) ** (np.arange(1, n_forecast) / 12)\n"
   ]
  },
  {
   "cell_type": "code",
   "execution_count": 18,
   "metadata": {},
   "outputs": [],
   "source": [
    "# Calculate the present value of the forecasted cash flows\n",
    "pv = (p_forecast * discount_factors) * amount_originated[:, np.newaxis]\n"
   ]
  },
  {
   "cell_type": "code",
   "execution_count": 19,
   "metadata": {},
   "outputs": [],
   "source": [
    "# Calculate the total present value (portfolio value)\n",
    "result = np.sum(pv)"
   ]
  },
  {
   "cell_type": "code",
   "execution_count": 20,
   "metadata": {},
   "outputs": [
    {
     "name": "stdout",
     "output_type": "stream",
     "text": [
      "The fair value estimate for the portfolio is 42792456.39 Swiss Francs\n"
     ]
    }
   ],
   "source": [
    "#Print the result\n",
    "print(f\"The fair value estimate for the portfolio is {round(result, 2)} Swiss Francs\")"
   ]
  }
 ],
 "metadata": {
  "kernelspec": {
   "display_name": "Python 3",
   "language": "python",
   "name": "python3"
  },
  "language_info": {
   "codemirror_mode": {
    "name": "ipython",
    "version": 3
   },
   "file_extension": ".py",
   "mimetype": "text/x-python",
   "name": "python",
   "nbconvert_exporter": "python",
   "pygments_lexer": "ipython3",
   "version": "3.12.6"
  }
 },
 "nbformat": 4,
 "nbformat_minor": 2
}
